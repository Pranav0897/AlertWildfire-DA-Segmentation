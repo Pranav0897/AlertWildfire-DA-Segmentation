{
 "metadata": {
  "language_info": {
   "codemirror_mode": {
    "name": "ipython",
    "version": 3
   },
   "file_extension": ".py",
   "mimetype": "text/x-python",
   "name": "python",
   "nbconvert_exporter": "python",
   "pygments_lexer": "ipython3",
   "version": "3.8.5-final"
  },
  "orig_nbformat": 2,
  "kernelspec": {
   "name": "python3",
   "display_name": "Python 3.8.5 64-bit ('ml': venv)",
   "metadata": {
    "interpreter": {
     "hash": "070bb1e2f1c1c519b88217d435dce4f05b5f48669af5935cdededf7cb5b978f4"
    }
   }
  }
 },
 "nbformat": 4,
 "nbformat_minor": 2,
 "cells": [
  {
   "cell_type": "code",
   "execution_count": 15,
   "metadata": {},
   "outputs": [],
   "source": [
    "import os, sys, subprocess\n",
    "import numpy as np"
   ]
  },
  {
   "cell_type": "code",
   "execution_count": 11,
   "metadata": {},
   "outputs": [],
   "source": [
    "learning_script = \"\"\"python3 transfer_learning.py --data_root=\"/data/field/nextcloud_nautilus_sync/AlertWildfire/redis_nonsmoke_dataset/data/\" \n",
    "                 --overlays_root=\"/data/field/nextcloud_nautilus_sync/AlertWildfire/Labelled Frames/synth_smoke/masks/\" \n",
    "                 --val_data_root=\"/data/field/nextcloud_nautilus_sync/AlertWildfire/Labelled Frames/New dataset/\", \n",
    "                 --val_anns_root=\"/data/field/nextcloud_nautilus_sync/AlertWildfire/Labelled Frames/New Dataset Annotations/\" \n",
    "                 --exp_dir=\"unet\" \n",
    "                 --exp_name=\"unet_finetuning_frac_real_{}\" \n",
    "                 --log_freq=1 \n",
    "                 --save_freq=1 \n",
    "                 --num_examples=40000\n",
    "                 --model_name=\"unet\" \n",
    "                 --num_gpus=1 \n",
    "                 --epochs=30 \n",
    "                 --batch_size=8 \n",
    "                 --log_dir=\"/home/chei/pranav/alertwildfire/aw-segmentation/checkpoints/\" \n",
    "                 --num_workers=8 \n",
    "                 --lr_sched_type='none' \n",
    "                 --lr=3e-4 \n",
    "                 --ckpt=\"/data/field/nextcloud_nautilus_sync/AlertWildfire/checkpoints/unet/resnet_new_data/30.ckpt\" \n",
    "                 --lr_gamma=0.5 \n",
    "                 --use_pretrained=True \n",
    "                 --training_frac={}\n",
    "\"\"\""
   ]
  },
  {
   "cell_type": "code",
   "execution_count": 14,
   "metadata": {},
   "outputs": [],
   "source": [
    "testing_script = \"\"\"python3 test.py --data_root=\"/data/field/nextcloud_nautilus_sync/AlertWildfire/Labelled Frames/smoke/\"\n",
    "                --exp_dir=\"unet\"\n",
    "                --exp_name=\"frac_{}_images\"\n",
    "                --num_test_images=40\n",
    "                --model_name=\"unet\"\n",
    "                --log_dir=\"/home/chei/pranav/alertwildfire/aw-segmentation/checkpoints\"\n",
    "                --checkpoint_path=\"/home/chei/pranav/alertwildfire/aw-segmentation/checkpoints/unet/unet_finetuning_frac_real_{}/finetune_30.ckpt\"\n",
    "                \"\"\""
   ]
  },
  {
   "cell_type": "code",
   "execution_count": null,
   "metadata": {},
   "outputs": [],
   "source": []
  },
  {
   "cell_type": "code",
   "execution_count": 21,
   "metadata": {},
   "outputs": [
    {
     "output_type": "stream",
     "name": "stdout",
     "text": [
      "python3 transfer_learning.py --data_root=\"/data/field/nextcloud_nautilus_sync/AlertWildfire/redis_nonsmoke_dataset/data/\" --overlays_root=\"/data/field/nextcloud_nautilus_sync/AlertWildfire/Labelled Frames/synth_smoke/masks/\" --val_data_root=\"/data/field/nextcloud_nautilus_sync/AlertWildfire/Labelled Frames/New dataset/\", --val_anns_root=\"/data/field/nextcloud_nautilus_sync/AlertWildfire/Labelled Frames/New Dataset Annotations/\" --exp_dir=\"unet\" --exp_name=\"unet_finetuning_frac_real_0.05\" --log_freq=1 --save_freq=1 --num_examples=40000 --model_name=\"unet\" --num_gpus=1 --epochs=30 --batch_size=8 --log_dir=\"/home/chei/pranav/alertwildfire/aw-segmentation/checkpoints/\" --num_workers=8 --lr_sched_type='none' --lr=3e-4 --ckpt=\"/data/field/nextcloud_nautilus_sync/AlertWildfire/checkpoints/unet/resnet_new_data/30.ckpt\" --lr_gamma=0.5 --use_pretrained=True --training_frac=0.05\n"
     ]
    },
    {
     "output_type": "error",
     "ename": "FileNotFoundError",
     "evalue": "[Errno 2] No such file or directory: 'python3 transfer_learning.py --data_root=\"/data/field/nextcloud_nautilus_sync/AlertWildfire/redis_nonsmoke_dataset/data/\" --overlays_root=\"/data/field/nextcloud_nautilus_sync/AlertWildfire/Labelled Frames/synth_smoke/masks/\" --val_data_root=\"/data/field/nextcloud_nautilus_sync/AlertWildfire/Labelled Frames/New dataset/\", --val_anns_root=\"/data/field/nextcloud_nautilus_sync/AlertWildfire/Labelled Frames/New Dataset Annotations/\" --exp_dir=\"unet\" --exp_name=\"unet_finetuning_frac_real_0.05\" --log_freq=1 --save_freq=1 --num_examples=40000 --model_name=\"unet\" --num_gpus=1 --epochs=30 --batch_size=8 --log_dir=\"/home/chei/pranav/alertwildfire/aw-segmentation/checkpoints/\" --num_workers=8 --lr_sched_type=\\'none\\' --lr=3e-4 --ckpt=\"/data/field/nextcloud_nautilus_sync/AlertWildfire/checkpoints/unet/resnet_new_data/30.ckpt\" --lr_gamma=0.5 --use_pretrained=True --training_frac=0.05'",
     "traceback": [
      "\u001b[0;31m---------------------------------------------------------------------------\u001b[0m",
      "\u001b[0;31mFileNotFoundError\u001b[0m                         Traceback (most recent call last)",
      "\u001b[0;32m<ipython-input-21-7afe3c8b1d1a>\u001b[0m in \u001b[0;36m<module>\u001b[0;34m\u001b[0m\n\u001b[1;32m      6\u001b[0m     \u001b[0mscript\u001b[0m \u001b[0;34m=\u001b[0m \u001b[0;34m' '\u001b[0m\u001b[0;34m.\u001b[0m\u001b[0mjoin\u001b[0m\u001b[0;34m(\u001b[0m\u001b[0;34m[\u001b[0m\u001b[0ms\u001b[0m\u001b[0;34m.\u001b[0m\u001b[0mstrip\u001b[0m\u001b[0;34m(\u001b[0m\u001b[0;34m)\u001b[0m \u001b[0;32mfor\u001b[0m \u001b[0ms\u001b[0m \u001b[0;32min\u001b[0m \u001b[0mscript\u001b[0m\u001b[0;34m.\u001b[0m\u001b[0mstrip\u001b[0m\u001b[0;34m(\u001b[0m\u001b[0;34m)\u001b[0m\u001b[0;34m.\u001b[0m\u001b[0msplit\u001b[0m\u001b[0;34m(\u001b[0m\u001b[0;34m'\\n'\u001b[0m\u001b[0;34m)\u001b[0m\u001b[0;34m]\u001b[0m\u001b[0;34m)\u001b[0m\u001b[0;34m\u001b[0m\u001b[0;34m\u001b[0m\u001b[0m\n\u001b[1;32m      7\u001b[0m     \u001b[0mprint\u001b[0m\u001b[0;34m(\u001b[0m\u001b[0mscript\u001b[0m\u001b[0;34m)\u001b[0m\u001b[0;34m\u001b[0m\u001b[0;34m\u001b[0m\u001b[0m\n\u001b[0;32m----> 8\u001b[0;31m     \u001b[0msubprocess\u001b[0m\u001b[0;34m.\u001b[0m\u001b[0mrun\u001b[0m\u001b[0;34m(\u001b[0m\u001b[0mscript\u001b[0m\u001b[0;34m,\u001b[0m \u001b[0mstdout\u001b[0m\u001b[0;34m=\u001b[0m\u001b[0mpipe\u001b[0m\u001b[0;34m,\u001b[0m \u001b[0mstderr\u001b[0m\u001b[0;34m=\u001b[0m\u001b[0mpipe\u001b[0m\u001b[0;34m)\u001b[0m\u001b[0;34m\u001b[0m\u001b[0;34m\u001b[0m\u001b[0m\n\u001b[0m\u001b[1;32m      9\u001b[0m \u001b[0;34m\u001b[0m\u001b[0m\n\u001b[1;32m     10\u001b[0m     \u001b[0mscript\u001b[0m \u001b[0;34m=\u001b[0m \u001b[0mtesting_script\u001b[0m\u001b[0;34m.\u001b[0m\u001b[0mformat\u001b[0m\u001b[0;34m(\u001b[0m\u001b[0mfrac\u001b[0m\u001b[0;34m,\u001b[0m\u001b[0mfrac\u001b[0m\u001b[0;34m)\u001b[0m\u001b[0;34m\u001b[0m\u001b[0;34m\u001b[0m\u001b[0m\n",
      "\u001b[0;32m/usr/lib/python3.8/subprocess.py\u001b[0m in \u001b[0;36mrun\u001b[0;34m(input, capture_output, timeout, check, *popenargs, **kwargs)\u001b[0m\n\u001b[1;32m    487\u001b[0m         \u001b[0mkwargs\u001b[0m\u001b[0;34m[\u001b[0m\u001b[0;34m'stderr'\u001b[0m\u001b[0;34m]\u001b[0m \u001b[0;34m=\u001b[0m \u001b[0mPIPE\u001b[0m\u001b[0;34m\u001b[0m\u001b[0;34m\u001b[0m\u001b[0m\n\u001b[1;32m    488\u001b[0m \u001b[0;34m\u001b[0m\u001b[0m\n\u001b[0;32m--> 489\u001b[0;31m     \u001b[0;32mwith\u001b[0m \u001b[0mPopen\u001b[0m\u001b[0;34m(\u001b[0m\u001b[0;34m*\u001b[0m\u001b[0mpopenargs\u001b[0m\u001b[0;34m,\u001b[0m \u001b[0;34m**\u001b[0m\u001b[0mkwargs\u001b[0m\u001b[0;34m)\u001b[0m \u001b[0;32mas\u001b[0m \u001b[0mprocess\u001b[0m\u001b[0;34m:\u001b[0m\u001b[0;34m\u001b[0m\u001b[0;34m\u001b[0m\u001b[0m\n\u001b[0m\u001b[1;32m    490\u001b[0m         \u001b[0;32mtry\u001b[0m\u001b[0;34m:\u001b[0m\u001b[0;34m\u001b[0m\u001b[0;34m\u001b[0m\u001b[0m\n\u001b[1;32m    491\u001b[0m             \u001b[0mstdout\u001b[0m\u001b[0;34m,\u001b[0m \u001b[0mstderr\u001b[0m \u001b[0;34m=\u001b[0m \u001b[0mprocess\u001b[0m\u001b[0;34m.\u001b[0m\u001b[0mcommunicate\u001b[0m\u001b[0;34m(\u001b[0m\u001b[0minput\u001b[0m\u001b[0;34m,\u001b[0m \u001b[0mtimeout\u001b[0m\u001b[0;34m=\u001b[0m\u001b[0mtimeout\u001b[0m\u001b[0;34m)\u001b[0m\u001b[0;34m\u001b[0m\u001b[0;34m\u001b[0m\u001b[0m\n",
      "\u001b[0;32m/usr/lib/python3.8/subprocess.py\u001b[0m in \u001b[0;36m__init__\u001b[0;34m(self, args, bufsize, executable, stdin, stdout, stderr, preexec_fn, close_fds, shell, cwd, env, universal_newlines, startupinfo, creationflags, restore_signals, start_new_session, pass_fds, encoding, errors, text)\u001b[0m\n\u001b[1;32m    852\u001b[0m                             encoding=encoding, errors=errors)\n\u001b[1;32m    853\u001b[0m \u001b[0;34m\u001b[0m\u001b[0m\n\u001b[0;32m--> 854\u001b[0;31m             self._execute_child(args, executable, preexec_fn, close_fds,\n\u001b[0m\u001b[1;32m    855\u001b[0m                                 \u001b[0mpass_fds\u001b[0m\u001b[0;34m,\u001b[0m \u001b[0mcwd\u001b[0m\u001b[0;34m,\u001b[0m \u001b[0menv\u001b[0m\u001b[0;34m,\u001b[0m\u001b[0;34m\u001b[0m\u001b[0;34m\u001b[0m\u001b[0m\n\u001b[1;32m    856\u001b[0m                                 \u001b[0mstartupinfo\u001b[0m\u001b[0;34m,\u001b[0m \u001b[0mcreationflags\u001b[0m\u001b[0;34m,\u001b[0m \u001b[0mshell\u001b[0m\u001b[0;34m,\u001b[0m\u001b[0;34m\u001b[0m\u001b[0;34m\u001b[0m\u001b[0m\n",
      "\u001b[0;32m/usr/lib/python3.8/subprocess.py\u001b[0m in \u001b[0;36m_execute_child\u001b[0;34m(self, args, executable, preexec_fn, close_fds, pass_fds, cwd, env, startupinfo, creationflags, shell, p2cread, p2cwrite, c2pread, c2pwrite, errread, errwrite, restore_signals, start_new_session)\u001b[0m\n\u001b[1;32m   1700\u001b[0m                     \u001b[0;32mif\u001b[0m \u001b[0merrno_num\u001b[0m \u001b[0;34m!=\u001b[0m \u001b[0;36m0\u001b[0m\u001b[0;34m:\u001b[0m\u001b[0;34m\u001b[0m\u001b[0;34m\u001b[0m\u001b[0m\n\u001b[1;32m   1701\u001b[0m                         \u001b[0merr_msg\u001b[0m \u001b[0;34m=\u001b[0m \u001b[0mos\u001b[0m\u001b[0;34m.\u001b[0m\u001b[0mstrerror\u001b[0m\u001b[0;34m(\u001b[0m\u001b[0merrno_num\u001b[0m\u001b[0;34m)\u001b[0m\u001b[0;34m\u001b[0m\u001b[0;34m\u001b[0m\u001b[0m\n\u001b[0;32m-> 1702\u001b[0;31m                     \u001b[0;32mraise\u001b[0m \u001b[0mchild_exception_type\u001b[0m\u001b[0;34m(\u001b[0m\u001b[0merrno_num\u001b[0m\u001b[0;34m,\u001b[0m \u001b[0merr_msg\u001b[0m\u001b[0;34m,\u001b[0m \u001b[0merr_filename\u001b[0m\u001b[0;34m)\u001b[0m\u001b[0;34m\u001b[0m\u001b[0;34m\u001b[0m\u001b[0m\n\u001b[0m\u001b[1;32m   1703\u001b[0m                 \u001b[0;32mraise\u001b[0m \u001b[0mchild_exception_type\u001b[0m\u001b[0;34m(\u001b[0m\u001b[0merr_msg\u001b[0m\u001b[0;34m)\u001b[0m\u001b[0;34m\u001b[0m\u001b[0;34m\u001b[0m\u001b[0m\n\u001b[1;32m   1704\u001b[0m \u001b[0;34m\u001b[0m\u001b[0m\n",
      "\u001b[0;31mFileNotFoundError\u001b[0m: [Errno 2] No such file or directory: 'python3 transfer_learning.py --data_root=\"/data/field/nextcloud_nautilus_sync/AlertWildfire/redis_nonsmoke_dataset/data/\" --overlays_root=\"/data/field/nextcloud_nautilus_sync/AlertWildfire/Labelled Frames/synth_smoke/masks/\" --val_data_root=\"/data/field/nextcloud_nautilus_sync/AlertWildfire/Labelled Frames/New dataset/\", --val_anns_root=\"/data/field/nextcloud_nautilus_sync/AlertWildfire/Labelled Frames/New Dataset Annotations/\" --exp_dir=\"unet\" --exp_name=\"unet_finetuning_frac_real_0.05\" --log_freq=1 --save_freq=1 --num_examples=40000 --model_name=\"unet\" --num_gpus=1 --epochs=30 --batch_size=8 --log_dir=\"/home/chei/pranav/alertwildfire/aw-segmentation/checkpoints/\" --num_workers=8 --lr_sched_type=\\'none\\' --lr=3e-4 --ckpt=\"/data/field/nextcloud_nautilus_sync/AlertWildfire/checkpoints/unet/resnet_new_data/30.ckpt\" --lr_gamma=0.5 --use_pretrained=True --training_frac=0.05'"
     ]
    }
   ],
   "source": [
    "pipe = subprocess.PIPE\n",
    "# subprocess.run([\"source\", \"/home/chei/pranav/ml/bin/activate\"], stdout=pipe, stderr=pipe)\n",
    "\n",
    "for frac in np.arange(0.05, 0.80, 0.05):\n",
    "    script = learning_script.format(frac,frac)\n",
    "    script = ' '.join([s.strip() for s in script.strip().split('\\n')])\n",
    "    print(script)\n",
    "    subprocess.run(script, stdout=pipe, stderr=pipe)\n",
    "\n",
    "    script = testing_script.format(frac,frac)\n",
    "    script = ' '.join([s.strip() for s in script.strip().split('\\n')])\n",
    "    print(script)\n",
    "    subprocess.run(script, stdout=pipe, stderr=pipe)"
   ]
  }
 ]
}