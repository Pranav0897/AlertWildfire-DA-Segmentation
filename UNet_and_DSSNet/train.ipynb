{
 "cells": [
  {
   "cell_type": "code",
   "execution_count": null,
   "metadata": {
    "scrolled": false
   },
   "outputs": [
    {
     "name": "stdout",
     "output_type": "stream",
     "text": [
      "local_rank: 0\n",
      "num_nodes: 1\n",
      "nr: 0\n",
      "data_root: /data/field/AlertWildfire/Labelled Frames/non-smoke/\n",
      "overlays_root: /data/field/AlertWildfire/Labelled Frames/synth_smoke/masks/\n",
      "val_data_root: /data/field/AlertWildfire/Labelled Frames/New dataset/,\n",
      "val_anns_root: /data/field/AlertWildfire/Labelled Frames/New Dataset Annotations/\n",
      "epochs: 30\n",
      "start_epoch: 0\n",
      "cuda: True\n",
      "no_logging: False\n",
      "log_dir: ./checkpoints\n",
      "log_freq: 1\n",
      "save_freq: 1\n",
      "exp_dir: dss_new_smoke\n",
      "exp_name: \n",
      "validate: False\n",
      "ckpt: \n",
      "use_pretrained: False\n",
      "model_name: dss\n",
      "dataset_name: synthetic\n",
      "batch_size: 8\n",
      "num_examples: 40000\n",
      "num_workers: 0\n",
      "shuffle_dataset: False\n",
      "lr: 0.0003\n",
      "lr_sched_type: none\n",
      "lr_gamma: 0.5\n",
      "momentum: 0.9\n",
      "beta: 0.999\n",
      "weight_decay: 0.0\n",
      "dropout: False\n",
      "grad_clip: 0\n",
      "use_bn: False\n",
      "multi_gpu: False\n",
      "num_gpus: 2\n",
      "debugging: False\n",
      "finetuning: False\n",
      "evaluation: False\n",
      "torch_seed: 123768\n",
      "cuda_seed: 543987\n",
      "Using 2 GPUs...\n",
      "Using 2 GPUs...\n",
      "Loding model and augmentations and placing on gpu...\n",
      "Loding model and augmentations and placing on gpu...\n",
      "The model has 4998787 learnable parameters\n",
      "The model has 4998787 learnable parameters\n",
      "Training epoch: 0...\n",
      "  0%|                                                  | 0/1891 [00:00<?, ?it/s]/home/jupyter-pranav/.local/lib/python3.7/site-packages/torch/nn/_reduction.py:44: UserWarning: size_average and reduce args will be deprecated, please use reduction='none' instead.\n",
      "  warnings.warn(warning.format(ret))\n",
      "Training epoch: 0...\n",
      "  0%|                                                  | 0/1891 [00:00<?, ?it/s]/home/jupyter-pranav/.local/lib/python3.7/site-packages/torch/nn/_reduction.py:44: UserWarning: size_average and reduce args will be deprecated, please use reduction='none' instead.\n",
      "  warnings.warn(warning.format(ret))\n",
      "  7%|██▋                                     | 130/1891 [02:57<40:35,  1.38s/it]"
     ]
    }
   ],
   "source": [
    "!./local_run.sh"
   ]
  },
  {
   "cell_type": "code",
   "execution_count": 1,
   "metadata": {},
   "outputs": [
    {
     "output_type": "stream",
     "name": "stdout",
     "text": [
      "Unable to determine the device handle for GPU 0000:29:00.0: GPU is lost.  Reboot the system to recover this GPU\n\n\n"
     ]
    }
   ],
   "source": [
    "!nvidia-smi"
   ]
  },
  {
   "cell_type": "code",
   "execution_count": 1,
   "metadata": {},
   "outputs": [
    {
     "output_type": "error",
     "ename": "ModuleNotFoundError",
     "evalue": "No module named 'torch'",
     "traceback": [
      "\u001b[0;31m---------------------------------------------------------------------------\u001b[0m",
      "\u001b[0;31mModuleNotFoundError\u001b[0m                       Traceback (most recent call last)",
      "\u001b[0;32m<ipython-input-1-f671f8557279>\u001b[0m in \u001b[0;36m<module>\u001b[0;34m\u001b[0m\n\u001b[0;32m----> 1\u001b[0;31m \u001b[0;32mfrom\u001b[0m \u001b[0mSyntheticSmokeDataset\u001b[0m \u001b[0;32mimport\u001b[0m \u001b[0mSyntheticSmokeTrain\u001b[0m\u001b[0;34m\u001b[0m\u001b[0;34m\u001b[0m\u001b[0m\n\u001b[0m",
      "\u001b[0;32m~/pranav/alertwildfire/aw-segmentation/SyntheticSmokeDataset.py\u001b[0m in \u001b[0;36m<module>\u001b[0;34m\u001b[0m\n\u001b[1;32m      1\u001b[0m \u001b[0;32mimport\u001b[0m \u001b[0mos\u001b[0m\u001b[0;34m\u001b[0m\u001b[0;34m\u001b[0m\u001b[0m\n\u001b[1;32m      2\u001b[0m \u001b[0;32mimport\u001b[0m \u001b[0mjson\u001b[0m\u001b[0;34m\u001b[0m\u001b[0;34m\u001b[0m\u001b[0m\n\u001b[0;32m----> 3\u001b[0;31m \u001b[0;32mimport\u001b[0m \u001b[0mtorch\u001b[0m\u001b[0;34m\u001b[0m\u001b[0;34m\u001b[0m\u001b[0m\n\u001b[0m\u001b[1;32m      4\u001b[0m \u001b[0;32mimport\u001b[0m \u001b[0mrandom\u001b[0m\u001b[0;34m\u001b[0m\u001b[0;34m\u001b[0m\u001b[0m\n\u001b[1;32m      5\u001b[0m \u001b[0;32mimport\u001b[0m \u001b[0mnumpy\u001b[0m \u001b[0;32mas\u001b[0m \u001b[0mnp\u001b[0m\u001b[0;34m\u001b[0m\u001b[0;34m\u001b[0m\u001b[0m\n",
      "\u001b[0;31mModuleNotFoundError\u001b[0m: No module named 'torch'"
     ]
    }
   ],
   "source": [
    "from SyntheticSmokeDataset import SyntheticSmokeTrain"
   ]
  },
  {
   "cell_type": "code",
   "execution_count": null,
   "metadata": {},
   "outputs": [],
   "source": []
  }
 ],
 "metadata": {
  "kernelspec": {
   "name": "python3",
   "display_name": "Python 3.8.5 64-bit",
   "metadata": {
    "interpreter": {
     "hash": "31f2aee4e71d21fbe5cf8b01ff0e069b9275f58929596ceb00d14d90e3e16cd6"
    }
   }
  },
  "language_info": {
   "codemirror_mode": {
    "name": "ipython",
    "version": 3
   },
   "file_extension": ".py",
   "mimetype": "text/x-python",
   "name": "python",
   "nbconvert_exporter": "python",
   "pygments_lexer": "ipython3",
   "version": "3.8.5-final"
  }
 },
 "nbformat": 4,
 "nbformat_minor": 4
}